{
 "cells": [
  {
   "cell_type": "markdown",
   "id": "5aaf7e75",
   "metadata": {},
   "source": [
    "# Import Libraries"
   ]
  },
  {
   "cell_type": "code",
   "execution_count": 1,
   "id": "aab44f01",
   "metadata": {},
   "outputs": [],
   "source": [
    "import os\n",
    "import cv2\n",
    "import numpy as np\n",
    "from sklearn.ensemble import GradientBoostingClassifier\n",
    "from sklearn.model_selection import train_test_split, GridSearchCV\n",
    "from sklearn.metrics import accuracy_score, classification_report, confusion_matrix\n",
    "from tensorflow.keras.applications import VGG16\n",
    "from tensorflow.keras.applications.vgg16 import preprocess_input\n",
    "from tensorflow.keras.preprocessing.image import img_to_array\n",
    "import joblib\n",
    "from tqdm import tqdm\n",
    "from sklearn.metrics import roc_auc_score\n",
    "import matplotlib.pyplot as plt"
   ]
  },
  {
   "cell_type": "markdown",
   "id": "6e854f07",
   "metadata": {},
   "source": [
    "# Directory Paths"
   ]
  },
  {
   "cell_type": "code",
   "execution_count": 2,
   "id": "15cb1fc6",
   "metadata": {},
   "outputs": [],
   "source": [
    "# Set the paths to the directories containing the face images\n",
    "stroke_dir = 'data/stroke_data'\n",
    "non_stroke_dir = 'data/no_stroke_data'"
   ]
  },
  {
   "cell_type": "markdown",
   "id": "c2f81122",
   "metadata": {},
   "source": [
    "# Load and Preprocess Images Function"
   ]
  },
  {
   "cell_type": "code",
   "execution_count": 3,
   "id": "63277f8d",
   "metadata": {},
   "outputs": [],
   "source": [
    "# Load and preprocess the images, and then display them\n",
    "def load_preprocess_images(image_dir, label):\n",
    "    images = []\n",
    "    labels = []\n",
    "\n",
    "    # Load and preprocess the images\n",
    "    file_list = os.listdir(image_dir)\n",
    "    for filename in tqdm(file_list, desc=\"Preprocessing Images in \" + image_dir):\n",
    "        img = cv2.imread(os.path.join(image_dir, filename))\n",
    "        if img is not None:  # Check if the image file was successfully read\n",
    "            img = cv2.resize(img, (224, 224))\n",
    "            img = preprocess_input(img)\n",
    "            images.append(img)\n",
    "            labels.append(label)\n",
    "\n",
    "    return images, labels"
   ]
  },
  {
   "cell_type": "markdown",
   "id": "8fce70ce",
   "metadata": {},
   "source": [
    "# Load and Preprocess Images"
   ]
  },
  {
   "cell_type": "code",
   "execution_count": 4,
   "id": "872cca13",
   "metadata": {},
   "outputs": [
    {
     "name": "stderr",
     "output_type": "stream",
     "text": [
      "Preprocessing Images in data/stroke_data: 100%|█████████████████████████████████████| 500/500 [00:01<00:00, 385.31it/s]\n",
      "Preprocessing Images in data/no_stroke_data: 100%|███████████████████████████████████| 555/555 [00:20<00:00, 27.14it/s]\n"
     ]
    }
   ],
   "source": [
    "#Load and Preprocess Images\n",
    "stroke_images, stroke_labels = load_preprocess_images(stroke_dir, 1)\n",
    "non_stroke_images, non_stroke_labels = load_preprocess_images(non_stroke_dir, 0)"
   ]
  },
  {
   "cell_type": "markdown",
   "id": "b4e2afc5",
   "metadata": {},
   "source": [
    "# Combine Images and Labels"
   ]
  },
  {
   "cell_type": "code",
   "execution_count": 5,
   "id": "7881e61b",
   "metadata": {},
   "outputs": [],
   "source": [
    "# Combine all images and corresponding labels\n",
    "images = np.concatenate([stroke_images, non_stroke_images])\n",
    "labels = np.concatenate([stroke_labels, non_stroke_labels])\n"
   ]
  },
  {
   "cell_type": "markdown",
   "id": "b2e2d50f",
   "metadata": {},
   "source": [
    "# Flatten Images"
   ]
  },
  {
   "cell_type": "code",
   "execution_count": 6,
   "id": "372f5a59",
   "metadata": {},
   "outputs": [],
   "source": [
    "# Flatten the images\n",
    "images = np.array(images)\n",
    "features = images.reshape(images.shape[0], -1)"
   ]
  },
  {
   "cell_type": "markdown",
   "id": "84e492ac",
   "metadata": {},
   "source": [
    "# Train-Test Split"
   ]
  },
  {
   "cell_type": "code",
   "execution_count": 7,
   "id": "43066b30",
   "metadata": {},
   "outputs": [],
   "source": [
    "# Split the dataset into training and testing sets\n",
    "X_train, X_test, y_train, y_test = train_test_split(features, labels, test_size=0.2, random_state=42)"
   ]
  },
  {
   "cell_type": "markdown",
   "id": "d2ee6a2f",
   "metadata": {},
   "source": [
    "# Define Gradient Boosting Classifier Model"
   ]
  },
  {
   "cell_type": "code",
   "execution_count": 8,
   "id": "9bd4d505",
   "metadata": {},
   "outputs": [],
   "source": [
    "# Define the Gradient Boosting Classifier model\n",
    "gradient_boosting = GradientBoostingClassifier(n_estimators=40, validation_fraction=0.2, n_iter_no_change=5, verbose=1)"
   ]
  },
  {
   "cell_type": "markdown",
   "id": "2e03e2ae",
   "metadata": {},
   "source": [
    "# Train the Model"
   ]
  },
  {
   "cell_type": "code",
   "execution_count": 9,
   "id": "4874b3ca",
   "metadata": {},
   "outputs": [
    {
     "name": "stderr",
     "output_type": "stream",
     "text": [
      "\r",
      "Training Model:   0%|                                                                           | 0/40 [00:00<?, ?it/s]"
     ]
    },
    {
     "name": "stdout",
     "output_type": "stream",
     "text": [
      "      Iter       Train Loss   Remaining Time \n",
      "         1           1.3022           18.57m\n",
      "         2           1.2254           17.97m\n",
      "         3           1.1577           17.44m\n",
      "         4           1.0993           16.88m\n",
      "         5           1.0416           16.42m\n",
      "         6           0.9957           15.95m\n",
      "         7           0.9515           15.50m\n",
      "         8           0.9055           15.07m\n",
      "         9           0.8693           14.63m\n",
      "        10           0.8316           14.13m\n",
      "        20           0.5752            9.42m\n",
      "        30           0.4105            4.69m\n"
     ]
    },
    {
     "name": "stderr",
     "output_type": "stream",
     "text": [
      "Training Model:   2%|█▏                                             | 1/40 [18:49<12:14:12, 1129.54s/it, Accuracy=0.81]"
     ]
    },
    {
     "name": "stdout",
     "output_type": "stream",
     "text": [
      "        40           0.3047            0.00s\n",
      "      Iter       Train Loss   Remaining Time \n",
      "         1           1.2994           18.86m\n",
      "         2           1.2323           18.32m\n",
      "         3           1.1608           18.00m\n",
      "         4           1.1008           18.02m\n",
      "         5           1.0495           17.62m\n",
      "         6           1.0001           16.93m\n",
      "         7           0.9522           16.41m\n",
      "         8           0.9121           15.76m\n",
      "         9           0.8757           15.15m\n",
      "        10           0.8365           14.62m\n",
      "        20           0.5677            9.60m\n",
      "        30           0.4054            4.75m\n"
     ]
    },
    {
     "name": "stderr",
     "output_type": "stream",
     "text": [
      "Training Model:   5%|██▎                                           | 2/40 [34:31<10:45:19, 1018.93s/it, Accuracy=0.815]"
     ]
    },
    {
     "name": "stdout",
     "output_type": "stream",
     "text": [
      "      Iter       Train Loss   Remaining Time \n",
      "         1           1.3005           17.51m\n",
      "         2           1.2225           17.40m\n",
      "         3           1.1616           16.80m\n",
      "         4           1.0931           16.37m\n",
      "         5           1.0431           15.91m\n",
      "         6           0.9905           15.68m\n",
      "         7           0.9489           15.27m\n",
      "         8           0.9039           14.92m\n",
      "         9           0.8627           14.44m\n",
      "        10           0.8257           14.04m\n",
      "        20           0.5470            9.39m\n",
      "        30           0.3795            4.70m\n"
     ]
    },
    {
     "name": "stderr",
     "output_type": "stream",
     "text": [
      "Training Model:   8%|███▌                                           | 3/40 [51:24<10:26:46, 1016.40s/it, Accuracy=0.82]"
     ]
    },
    {
     "name": "stdout",
     "output_type": "stream",
     "text": [
      "      Iter       Train Loss   Remaining Time \n",
      "         1           1.2981           18.20m\n",
      "         2           1.2247           18.19m\n",
      "         3           1.1557           17.60m\n",
      "         4           1.1014           17.07m\n",
      "         5           1.0471           16.51m\n",
      "         6           0.9968           15.97m\n",
      "         7           0.9542           15.49m\n",
      "         8           0.9049           15.04m\n",
      "         9           0.8620           14.58m\n",
      "        10           0.8285           14.04m\n",
      "        20           0.5654            9.34m\n",
      "        30           0.4022            4.67m\n"
     ]
    },
    {
     "name": "stderr",
     "output_type": "stream",
     "text": [
      "Training Model:  10%|████▌                                        | 4/40 [1:10:00<10:33:26, 1055.74s/it, Accuracy=0.81]"
     ]
    },
    {
     "name": "stdout",
     "output_type": "stream",
     "text": [
      "        40           0.3024            0.00s\n",
      "      Iter       Train Loss   Remaining Time \n",
      "         1           1.2917           17.75m\n",
      "         2           1.2141           17.31m\n",
      "         3           1.1550           16.84m\n",
      "         4           1.0921           16.52m\n",
      "         5           1.0364           16.21m\n",
      "         6           0.9925           15.84m\n",
      "         7           0.9441           15.42m\n",
      "         8           0.8964           14.98m\n",
      "         9           0.8579           14.55m\n",
      "        10           0.8205           14.12m\n",
      "        20           0.5574            9.38m\n",
      "        30           0.3982            4.69m\n"
     ]
    },
    {
     "name": "stderr",
     "output_type": "stream",
     "text": [
      "Training Model:  12%|█████▌                                      | 5/40 [1:28:46<10:30:34, 1081.00s/it, Accuracy=0.815]"
     ]
    },
    {
     "name": "stdout",
     "output_type": "stream",
     "text": [
      "        40           0.2963            0.00s\n",
      "      Iter       Train Loss   Remaining Time \n",
      "         1           1.3062           18.78m\n",
      "         2           1.2334           18.27m\n",
      "         3           1.1794           17.78m\n",
      "         4           1.1211           17.31m\n",
      "         5           1.0676           16.70m\n",
      "         6           1.0173           16.22m\n",
      "         7           0.9726           15.71m\n",
      "         8           0.9317           15.25m\n",
      "         9           0.8908           14.85m\n",
      "        10           0.8501           14.43m\n",
      "        20           0.5789            9.81m\n",
      "        30           0.4170            4.84m\n"
     ]
    },
    {
     "name": "stderr",
     "output_type": "stream",
     "text": [
      "Training Model:  15%|██████▌                                     | 6/40 [1:48:02<10:26:59, 1106.46s/it, Accuracy=0.829]"
     ]
    },
    {
     "name": "stdout",
     "output_type": "stream",
     "text": [
      "        40           0.3091            0.00s\n",
      "      Iter       Train Loss   Remaining Time \n",
      "         1           1.3091           18.91m\n",
      "         2           1.2316           18.28m\n",
      "         3           1.1624           17.75m\n",
      "         4           1.1102           17.25m\n",
      "         5           1.0529           16.79m\n",
      "         6           1.0036           16.23m\n",
      "         7           0.9579           15.80m\n",
      "         8           0.9159           15.33m\n",
      "         9           0.8713           14.96m\n",
      "        10           0.8370           14.47m\n",
      "        20           0.5732            9.90m\n",
      "        30           0.4108            4.81m\n"
     ]
    },
    {
     "name": "stderr",
     "output_type": "stream",
     "text": [
      "Training Model:  18%|███████▋                                    | 7/40 [2:07:07<10:15:27, 1119.02s/it, Accuracy=0.825]"
     ]
    },
    {
     "name": "stdout",
     "output_type": "stream",
     "text": [
      "        40           0.3063            0.00s\n",
      "      Iter       Train Loss   Remaining Time \n",
      "         1           1.3065           18.23m\n",
      "         2           1.2417           17.88m\n",
      "         3           1.1852           17.49m\n",
      "         4           1.1266           16.80m\n",
      "         5           1.0766           16.14m\n",
      "         6           1.0315           15.69m\n",
      "         7           0.9841           15.21m\n",
      "         8           0.9390           14.80m\n",
      "         9           0.8975           14.37m\n",
      "        10           0.8641           13.91m\n",
      "        20           0.6021            9.36m\n",
      "        30           0.4489            4.65m\n"
     ]
    },
    {
     "name": "stderr",
     "output_type": "stream",
     "text": [
      "Training Model:  20%|█████████                                    | 8/40 [2:25:37<9:55:18, 1116.21s/it, Accuracy=0.806]"
     ]
    },
    {
     "name": "stdout",
     "output_type": "stream",
     "text": [
      "        40           0.3436            0.00s\n",
      "      Iter       Train Loss   Remaining Time \n",
      "         1           1.3036           18.43m\n",
      "         2           1.2315           18.07m\n",
      "         3           1.1651           17.61m\n",
      "         4           1.1099           17.19m\n",
      "         5           1.0543           16.69m\n",
      "         6           1.0013           16.16m\n",
      "         7           0.9550           15.67m\n",
      "         8           0.9126           15.23m\n",
      "         9           0.8677           14.70m\n",
      "        10           0.8333           14.13m\n",
      "        20           0.5611            9.27m\n",
      "        30           0.3928            4.61m\n"
     ]
    },
    {
     "name": "stderr",
     "output_type": "stream",
     "text": [
      "Training Model:  22%|██████████▏                                  | 9/40 [2:44:02<9:34:53, 1112.71s/it, Accuracy=0.839]"
     ]
    },
    {
     "name": "stdout",
     "output_type": "stream",
     "text": [
      "        40           0.2877            0.00s\n",
      "      Iter       Train Loss   Remaining Time \n",
      "         1           1.2968           17.78m\n",
      "         2           1.2192           17.51m\n",
      "         3           1.1456           17.15m\n",
      "         4           1.0868           16.64m\n",
      "         5           1.0276           16.04m\n",
      "         6           0.9737           15.63m\n",
      "         7           0.9291           15.21m\n",
      "         8           0.8828           14.72m\n",
      "         9           0.8428           14.29m\n",
      "        10           0.8100           13.80m\n",
      "        20           0.5463            9.27m\n",
      "        30           0.3930            4.59m\n"
     ]
    },
    {
     "name": "stderr",
     "output_type": "stream",
     "text": [
      "Training Model:  25%|███████████▎                                 | 10/40 [3:02:23<9:14:31, 1109.05s/it, Accuracy=0.81]"
     ]
    },
    {
     "name": "stdout",
     "output_type": "stream",
     "text": [
      "        40           0.2910            0.00s\n",
      "      Iter       Train Loss   Remaining Time \n",
      "         1           1.3048           18.12m\n",
      "         2           1.2393           17.53m\n",
      "         3           1.1804           17.19m\n",
      "         4           1.1235           16.67m\n",
      "         5           1.0702           16.57m\n",
      "         6           1.0220           16.02m\n",
      "         7           0.9712           15.45m\n",
      "         8           0.9261           14.85m\n",
      "         9           0.8882           14.39m\n",
      "        10           0.8485           13.95m\n",
      "        20           0.5743            9.25m\n",
      "        30           0.4121            4.57m\n"
     ]
    },
    {
     "name": "stderr",
     "output_type": "stream",
     "text": [
      "Training Model:  28%|████████████                                | 11/40 [3:20:41<8:54:25, 1105.70s/it, Accuracy=0.815]"
     ]
    },
    {
     "name": "stdout",
     "output_type": "stream",
     "text": [
      "        40           0.3070            0.00s\n",
      "      Iter       Train Loss   Remaining Time \n",
      "         1           1.3045           18.43m\n",
      "         2           1.2267           17.89m\n",
      "         3           1.1669           17.45m\n",
      "         4           1.1104           16.81m\n",
      "         5           1.0565           16.30m\n",
      "         6           1.0064           15.76m\n",
      "         7           0.9569           15.28m\n",
      "         8           0.9114           14.80m\n",
      "         9           0.8693           14.34m\n",
      "        10           0.8346           13.86m\n",
      "        20           0.5722            9.26m\n",
      "        30           0.4084            4.63m\n"
     ]
    },
    {
     "name": "stderr",
     "output_type": "stream",
     "text": [
      "Training Model:  30%|█████████████▏                              | 12/40 [3:39:07<8:36:07, 1106.00s/it, Accuracy=0.815]"
     ]
    },
    {
     "name": "stdout",
     "output_type": "stream",
     "text": [
      "        40           0.3012            0.00s\n",
      "      Iter       Train Loss   Remaining Time \n",
      "         1           1.2990           17.90m\n",
      "         2           1.2351           17.28m\n",
      "         3           1.1710           16.90m\n",
      "         4           1.1138           16.40m\n",
      "         5           1.0582           16.01m\n",
      "         6           1.0028           15.68m\n",
      "         7           0.9587           15.26m\n",
      "         8           0.9178           14.77m\n",
      "         9           0.8732           14.34m\n",
      "        10           0.8381           13.99m\n",
      "        20           0.5706            9.63m\n",
      "        30           0.4073            4.77m\n"
     ]
    },
    {
     "name": "stderr",
     "output_type": "stream",
     "text": [
      "Training Model:  32%|██████████████▋                              | 13/40 [3:57:57<8:20:53, 1113.08s/it, Accuracy=0.82]"
     ]
    },
    {
     "name": "stdout",
     "output_type": "stream",
     "text": [
      "        40           0.3024            0.00s\n",
      "      Iter       Train Loss   Remaining Time \n",
      "         1           1.3037           18.77m\n",
      "         2           1.2290           18.07m\n",
      "         3           1.1608           17.63m\n",
      "         4           1.1027           17.17m\n",
      "         5           1.0452           16.84m\n",
      "         6           0.9981           16.31m\n",
      "         7           0.9537           15.86m\n",
      "         8           0.9116           15.29m\n",
      "         9           0.8764           14.76m\n",
      "        10           0.8399           14.24m\n",
      "        20           0.5828            9.35m\n",
      "        30           0.4199            4.65m\n"
     ]
    },
    {
     "name": "stderr",
     "output_type": "stream",
     "text": [
      "Training Model:  35%|███████████████▍                            | 14/40 [4:16:26<8:01:46, 1111.78s/it, Accuracy=0.825]"
     ]
    },
    {
     "name": "stdout",
     "output_type": "stream",
     "text": [
      "        40           0.3122            0.00s\n",
      "      Iter       Train Loss   Remaining Time \n",
      "         1           1.3046           17.31m\n",
      "         2           1.2355           17.06m\n",
      "         3           1.1749           16.81m\n",
      "         4           1.1132           16.31m\n",
      "         5           1.0619           15.81m\n",
      "         6           1.0109           15.33m\n",
      "         7           0.9623           14.95m\n",
      "         8           0.9135           14.50m\n",
      "         9           0.8753           14.06m\n",
      "        10           0.8415           13.64m\n",
      "        20           0.5760            9.11m\n",
      "        30           0.4167            4.57m\n"
     ]
    },
    {
     "name": "stderr",
     "output_type": "stream",
     "text": [
      "Training Model:  38%|████████████████▌                           | 15/40 [4:34:41<7:41:11, 1106.88s/it, Accuracy=0.815]"
     ]
    },
    {
     "name": "stdout",
     "output_type": "stream",
     "text": [
      "        40           0.3048            0.00s\n",
      "      Iter       Train Loss   Remaining Time \n",
      "         1           1.3026           19.09m\n",
      "         2           1.2337           18.52m\n",
      "         3           1.1657           17.83m\n",
      "         4           1.1063           17.14m\n",
      "         5           1.0552           16.52m\n",
      "         6           1.0018           16.16m\n",
      "         7           0.9587           15.57m\n",
      "         8           0.9222           15.06m\n",
      "         9           0.8843           14.56m\n",
      "        10           0.8485           14.02m\n",
      "        20           0.5723            9.31m\n",
      "        30           0.4076            4.65m\n"
     ]
    },
    {
     "name": "stderr",
     "output_type": "stream",
     "text": [
      "Training Model:  40%|█████████████████▌                          | 16/40 [4:53:16<7:23:43, 1109.32s/it, Accuracy=0.796]"
     ]
    },
    {
     "name": "stdout",
     "output_type": "stream",
     "text": [
      "        40           0.3099            0.00s\n",
      "      Iter       Train Loss   Remaining Time \n",
      "         1           1.2950           18.47m\n",
      "         2           1.2307           17.65m\n",
      "         3           1.1707           17.33m\n",
      "         4           1.1110           16.96m\n",
      "         5           1.0561           16.51m\n",
      "         6           1.0076           16.13m\n",
      "         7           0.9591           15.66m\n",
      "         8           0.9243           15.16m\n",
      "         9           0.8813           14.74m\n",
      "        10           0.8431           14.23m\n",
      "        20           0.5793            9.45m\n",
      "        30           0.4124            4.67m\n"
     ]
    },
    {
     "name": "stderr",
     "output_type": "stream",
     "text": [
      "Training Model:  42%|██████████████████▋                         | 17/40 [5:11:54<7:06:11, 1111.79s/it, Accuracy=0.825]"
     ]
    },
    {
     "name": "stdout",
     "output_type": "stream",
     "text": [
      "        40           0.3044            0.00s\n",
      "      Iter       Train Loss   Remaining Time \n",
      "         1           1.3035           18.81m\n",
      "         2           1.2405           17.74m\n",
      "         3           1.1757           17.31m\n",
      "         4           1.1168           17.04m\n",
      "         5           1.0561           16.47m\n",
      "         6           1.0041           15.85m\n",
      "         7           0.9604           15.36m\n",
      "         8           0.9140           14.95m\n",
      "         9           0.8732           14.57m\n",
      "        10           0.8398           14.12m\n",
      "        20           0.5707            9.33m\n",
      "        30           0.4002            4.67m\n"
     ]
    },
    {
     "name": "stderr",
     "output_type": "stream",
     "text": [
      "Training Model:  45%|███████████████████▊                        | 18/40 [5:30:27<6:47:49, 1112.27s/it, Accuracy=0.853]"
     ]
    },
    {
     "name": "stdout",
     "output_type": "stream",
     "text": [
      "        40           0.2914            0.00s\n",
      "      Iter       Train Loss   Remaining Time \n",
      "         1           1.3012           18.17m\n",
      "         2           1.2312           17.89m\n",
      "         3           1.1648           17.39m\n",
      "         4           1.1005           16.97m\n",
      "         5           1.0531           16.54m\n",
      "         6           1.0026           16.01m\n",
      "         7           0.9542           15.58m\n",
      "         8           0.9092           15.06m\n",
      "         9           0.8698           14.65m\n",
      "        10           0.8341           14.13m\n",
      "        20           0.5627            9.34m\n",
      "        30           0.3981            4.65m\n"
     ]
    },
    {
     "name": "stderr",
     "output_type": "stream",
     "text": [
      "Training Model:  48%|████████████████████▉                       | 19/40 [5:49:00<6:29:24, 1112.62s/it, Accuracy=0.844]"
     ]
    },
    {
     "name": "stdout",
     "output_type": "stream",
     "text": [
      "        40           0.2917            0.00s\n",
      "      Iter       Train Loss   Remaining Time \n",
      "         1           1.3039           18.39m\n",
      "         2           1.2291           18.10m\n",
      "         3           1.1598           17.58m\n",
      "         4           1.0964           17.04m\n",
      "         5           1.0478           16.52m\n",
      "         6           0.9943           16.03m\n",
      "         7           0.9486           15.54m\n",
      "         8           0.9073           15.06m\n",
      "         9           0.8700           14.63m\n",
      "        10           0.8335           14.11m\n",
      "        20           0.5682            9.30m\n",
      "        30           0.3990            4.61m\n"
     ]
    },
    {
     "name": "stderr",
     "output_type": "stream",
     "text": [
      "Training Model:  50%|██████████████████████                      | 20/40 [6:07:26<6:10:11, 1110.57s/it, Accuracy=0.829]"
     ]
    },
    {
     "name": "stdout",
     "output_type": "stream",
     "text": [
      "        40           0.2936            0.00s\n",
      "      Iter       Train Loss   Remaining Time \n",
      "         1           1.2940           18.51m\n",
      "         2           1.2181           18.00m\n",
      "         3           1.1547           17.34m\n",
      "         4           1.0940           16.68m\n",
      "         5           1.0383           16.23m\n",
      "         6           0.9863           15.66m\n",
      "         7           0.9451           15.15m\n",
      "         8           0.9014           14.64m\n",
      "         9           0.8635           14.13m\n",
      "        10           0.8291           13.66m\n",
      "        20           0.5638            9.10m\n",
      "        30           0.4036            4.55m\n"
     ]
    },
    {
     "name": "stderr",
     "output_type": "stream",
     "text": [
      "Training Model:  52%|███████████████████████                     | 21/40 [6:25:33<5:49:26, 1103.52s/it, Accuracy=0.787]"
     ]
    },
    {
     "name": "stdout",
     "output_type": "stream",
     "text": [
      "        40           0.3028            0.00s\n",
      "      Iter       Train Loss   Remaining Time \n",
      "         1           1.3007           17.45m\n",
      "         2           1.2320           17.34m\n",
      "         3           1.1587           16.80m\n",
      "         4           1.1069           16.50m\n",
      "         5           1.0484           16.07m\n",
      "         6           0.9957           15.57m\n",
      "         7           0.9545           15.19m\n",
      "         8           0.9151           14.72m\n",
      "         9           0.8788           14.31m\n",
      "        10           0.8422           13.83m\n",
      "        20           0.5622            9.15m\n",
      "        30           0.3998            4.60m\n"
     ]
    },
    {
     "name": "stderr",
     "output_type": "stream",
     "text": [
      "Training Model:  55%|████████████████████████▏                   | 22/40 [6:43:59<5:31:14, 1104.14s/it, Accuracy=0.806]"
     ]
    },
    {
     "name": "stdout",
     "output_type": "stream",
     "text": [
      "        40           0.3006            0.00s\n",
      "      Iter       Train Loss   Remaining Time \n",
      "         1           1.3007           17.96m\n",
      "         2           1.2340           17.26m\n",
      "         3           1.1747           17.17m\n",
      "         4           1.1146           16.65m\n",
      "         5           1.0592           16.17m\n",
      "         6           1.0100           15.76m\n",
      "         7           0.9619           15.34m\n",
      "         8           0.9181           14.80m\n",
      "         9           0.8788           14.30m\n",
      "        10           0.8383           13.82m\n",
      "        20           0.5784            9.31m\n",
      "        30           0.4200            4.65m\n"
     ]
    },
    {
     "name": "stderr",
     "output_type": "stream",
     "text": [
      "Training Model:  57%|█████████████████████████▎                  | 23/40 [7:02:31<5:13:32, 1106.59s/it, Accuracy=0.782]"
     ]
    },
    {
     "name": "stdout",
     "output_type": "stream",
     "text": [
      "        40           0.3079            0.00s\n",
      "      Iter       Train Loss   Remaining Time \n",
      "         1           1.2996           18.34m\n",
      "         2           1.2378           17.59m\n",
      "         3           1.1740           17.16m\n",
      "         4           1.1208           16.64m\n",
      "         5           1.0714           16.29m\n",
      "         6           1.0214           15.85m\n",
      "         7           0.9794           15.38m\n",
      "         8           0.9420           14.87m\n",
      "         9           0.8977           14.40m\n",
      "        10           0.8622           13.98m\n",
      "        20           0.6048            9.27m\n",
      "        30           0.4421            4.65m\n"
     ]
    },
    {
     "name": "stderr",
     "output_type": "stream",
     "text": [
      "Training Model:  60%|███████████████████████████                  | 24/40 [7:21:04<4:55:35, 1108.45s/it, Accuracy=0.82]"
     ]
    },
    {
     "name": "stdout",
     "output_type": "stream",
     "text": [
      "        40           0.3301            0.00s\n",
      "      Iter       Train Loss   Remaining Time \n",
      "         1           1.3058           18.69m\n",
      "         2           1.2322           17.97m\n",
      "         3           1.1684           17.61m\n",
      "         4           1.1088           17.07m\n",
      "         5           1.0476           16.69m\n",
      "         6           0.9981           16.21m\n",
      "         7           0.9532           15.66m\n",
      "         8           0.9066           15.20m\n",
      "         9           0.8669           14.76m\n",
      "        10           0.8352           14.24m\n",
      "        20           0.5753            9.38m\n",
      "        30           0.4148            4.68m\n"
     ]
    },
    {
     "name": "stderr",
     "output_type": "stream",
     "text": [
      "Training Model:  62%|████████████████████████████▏                | 25/40 [7:39:45<4:38:03, 1112.26s/it, Accuracy=0.81]"
     ]
    },
    {
     "name": "stdout",
     "output_type": "stream",
     "text": [
      "        40           0.3099            0.00s\n",
      "      Iter       Train Loss   Remaining Time \n",
      "         1           1.3048           17.79m\n",
      "         2           1.2331           17.47m\n",
      "         3           1.1759           16.81m\n",
      "         4           1.1192           16.38m\n",
      "         5           1.0689           15.93m\n",
      "         6           1.0222           15.62m\n",
      "         7           0.9764           15.29m\n",
      "         8           0.9382           14.99m\n",
      "         9           0.8982           14.57m\n",
      "        10           0.8640           14.08m\n",
      "        20           0.5844            9.33m\n",
      "        30           0.4221            4.60m\n"
     ]
    },
    {
     "name": "stderr",
     "output_type": "stream",
     "text": [
      "Training Model:  65%|████████████████████████████▌               | 26/40 [7:58:12<4:19:10, 1110.72s/it, Accuracy=0.815]"
     ]
    },
    {
     "name": "stdout",
     "output_type": "stream",
     "text": [
      "        40           0.3251            0.00s\n",
      "      Iter       Train Loss   Remaining Time \n",
      "         1           1.3056           19.79m\n",
      "         2           1.2373           18.40m\n",
      "         3           1.1784           17.74m\n",
      "         4           1.1168           17.08m\n",
      "         5           1.0559           16.85m\n",
      "         6           1.0117           16.30m\n",
      "         7           0.9641           15.80m\n",
      "         8           0.9250           15.28m\n",
      "         9           0.8877           14.79m\n",
      "        10           0.8504           14.32m\n",
      "        20           0.5851            9.49m\n",
      "        30           0.4241            4.71m\n"
     ]
    },
    {
     "name": "stderr",
     "output_type": "stream",
     "text": [
      "Training Model:  68%|█████████████████████████████▋              | 27/40 [8:16:50<4:01:05, 1112.75s/it, Accuracy=0.806]"
     ]
    },
    {
     "name": "stdout",
     "output_type": "stream",
     "text": [
      "        40           0.3133            0.00s\n",
      "      Iter       Train Loss   Remaining Time \n",
      "         1           1.3045           18.59m\n",
      "         2           1.2383           17.88m\n",
      "         3           1.1788           17.44m\n",
      "         4           1.1228           16.90m\n",
      "         5           1.0765           16.31m\n",
      "         6           1.0257           15.97m\n",
      "         7           0.9843           15.52m\n",
      "         8           0.9474           15.05m\n",
      "         9           0.9020           14.55m\n",
      "        10           0.8653           14.04m\n",
      "        20           0.5985            9.21m\n",
      "        30           0.4331            4.60m\n"
     ]
    },
    {
     "name": "stderr",
     "output_type": "stream",
     "text": [
      "Training Model:  70%|██████████████████████████████▊             | 28/40 [8:35:20<3:42:23, 1111.98s/it, Accuracy=0.801]"
     ]
    },
    {
     "name": "stdout",
     "output_type": "stream",
     "text": [
      "        40           0.3305            0.00s\n",
      "      Iter       Train Loss   Remaining Time \n",
      "         1           1.3023           17.82m\n",
      "         2           1.2310           17.21m\n",
      "         3           1.1648           16.59m\n",
      "         4           1.1126           16.11m\n",
      "         5           1.0503           15.97m\n",
      "         6           0.9945           15.80m\n",
      "         7           0.9487           15.28m\n",
      "         8           0.9031           14.77m\n",
      "         9           0.8598           14.33m\n",
      "        10           0.8275           13.81m\n",
      "        20           0.5702            9.18m\n",
      "        30           0.4140            4.56m\n"
     ]
    },
    {
     "name": "stderr",
     "output_type": "stream",
     "text": [
      "Training Model:  72%|███████████████████████████████▉            | 29/40 [8:53:37<3:23:03, 1107.55s/it, Accuracy=0.815]"
     ]
    },
    {
     "name": "stdout",
     "output_type": "stream",
     "text": [
      "        40           0.2962            0.00s\n",
      "      Iter       Train Loss   Remaining Time \n",
      "         1           1.2872           17.83m\n",
      "         2           1.2195           17.11m\n",
      "         3           1.1475           16.95m\n",
      "         4           1.0930           16.64m\n",
      "         5           1.0418           16.22m\n",
      "         6           0.9897           15.78m\n",
      "         7           0.9457           15.37m\n",
      "         8           0.9030           14.96m\n",
      "         9           0.8592           14.52m\n",
      "        10           0.8199           14.04m\n",
      "        20           0.5564            9.24m\n",
      "        30           0.4056            4.55m\n"
     ]
    },
    {
     "name": "stderr",
     "output_type": "stream",
     "text": [
      "Training Model:  75%|█████████████████████████████████           | 30/40 [9:11:20<3:02:21, 1094.11s/it, Accuracy=0.825]"
     ]
    },
    {
     "name": "stdout",
     "output_type": "stream",
     "text": [
      "      Iter       Train Loss   Remaining Time \n",
      "         1           1.3006           18.14m\n",
      "         2           1.2281           18.09m\n",
      "         3           1.1657           17.18m\n",
      "         4           1.1038           16.76m\n",
      "         5           1.0518           16.14m\n",
      "         6           1.0033           15.75m\n",
      "         7           0.9565           15.29m\n",
      "         8           0.9168           14.82m\n",
      "         9           0.8788           14.43m\n",
      "        10           0.8438           13.98m\n",
      "        20           0.5652            9.24m\n",
      "        30           0.4125            4.58m\n"
     ]
    },
    {
     "name": "stderr",
     "output_type": "stream",
     "text": [
      "Training Model:  78%|██████████████████████████████████          | 31/40 [9:29:37<2:44:15, 1095.10s/it, Accuracy=0.815]"
     ]
    },
    {
     "name": "stdout",
     "output_type": "stream",
     "text": [
      "        40           0.3039            0.00s\n",
      "      Iter       Train Loss   Remaining Time \n",
      "         1           1.3059           17.95m\n",
      "         2           1.2346           17.90m\n",
      "         3           1.1774           17.67m\n",
      "         4           1.1194           17.26m\n",
      "         5           1.0736           16.79m\n",
      "         6           1.0260           16.40m\n",
      "         7           0.9809           15.96m\n",
      "         8           0.9416           15.52m\n",
      "         9           0.8985           15.04m\n",
      "        10           0.8553           14.59m\n",
      "        20           0.5725            9.73m\n",
      "        30           0.4062            4.77m\n"
     ]
    },
    {
     "name": "stderr",
     "output_type": "stream",
     "text": [
      "Training Model:  80%|███████████████████████████████████▏        | 32/40 [9:48:31<2:27:33, 1106.72s/it, Accuracy=0.825]"
     ]
    },
    {
     "name": "stdout",
     "output_type": "stream",
     "text": [
      "        40           0.3018            0.00s\n",
      "      Iter       Train Loss   Remaining Time \n",
      "         1           1.2998           17.70m\n",
      "         2           1.2276           17.39m\n",
      "         3           1.1539           17.03m\n",
      "         4           1.0897           16.65m\n",
      "         5           1.0348           16.16m\n",
      "         6           0.9860           15.63m\n",
      "         7           0.9351           15.27m\n",
      "         8           0.8944           14.79m\n",
      "         9           0.8516           14.34m\n",
      "        10           0.8124           13.87m\n",
      "        20           0.5437            9.29m\n",
      "        30           0.3887            4.61m\n"
     ]
    },
    {
     "name": "stderr",
     "output_type": "stream",
     "text": [
      "Training Model:  82%|███████████████████████████████████▍       | 33/40 [10:06:57<2:09:04, 1106.33s/it, Accuracy=0.829]"
     ]
    },
    {
     "name": "stdout",
     "output_type": "stream",
     "text": [
      "        40           0.2837            0.00s\n",
      "      Iter       Train Loss   Remaining Time \n",
      "         1           1.3029           18.22m\n",
      "         2           1.2284           17.70m\n",
      "         3           1.1568           17.01m\n",
      "         4           1.0986           16.49m\n",
      "         5           1.0458           15.97m\n",
      "         6           0.9880           15.49m\n",
      "         7           0.9404           15.02m\n",
      "         8           0.8957           14.55m\n",
      "         9           0.8549           14.12m\n",
      "        10           0.8247           13.63m\n",
      "        20           0.5503            9.17m\n",
      "        30           0.3946            4.61m\n"
     ]
    },
    {
     "name": "stderr",
     "output_type": "stream",
     "text": [
      "Training Model:  85%|████████████████████████████████████▌      | 34/40 [10:25:27<1:50:45, 1107.58s/it, Accuracy=0.829]"
     ]
    },
    {
     "name": "stdout",
     "output_type": "stream",
     "text": [
      "        40           0.2928            0.00s\n",
      "      Iter       Train Loss   Remaining Time \n",
      "         1           1.2944           18.60m\n",
      "         2           1.2204           18.23m\n",
      "         3           1.1652           17.55m\n",
      "         4           1.1031           17.19m\n",
      "         5           1.0494           16.54m\n",
      "         6           0.9965           16.05m\n",
      "         7           0.9536           15.48m\n",
      "         8           0.9124           14.95m\n",
      "         9           0.8767           14.41m\n",
      "        10           0.8375           13.95m\n",
      "        20           0.5756            9.26m\n",
      "        30           0.4126            4.63m\n"
     ]
    },
    {
     "name": "stderr",
     "output_type": "stream",
     "text": [
      "Training Model:  88%|█████████████████████████████████████▋     | 35/40 [10:43:54<1:32:17, 1107.52s/it, Accuracy=0.806]"
     ]
    },
    {
     "name": "stdout",
     "output_type": "stream",
     "text": [
      "        40           0.3090            0.00s\n",
      "      Iter       Train Loss   Remaining Time \n",
      "         1           1.2992           17.92m\n",
      "         2           1.2342           17.48m\n",
      "         3           1.1697           17.04m\n",
      "         4           1.1107           16.59m\n",
      "         5           1.0628           16.04m\n",
      "         6           1.0121           15.71m\n",
      "         7           0.9676           15.24m\n",
      "         8           0.9242           14.78m\n",
      "         9           0.8825           14.32m\n",
      "        10           0.8413           14.00m\n",
      "        20           0.5722            9.24m\n",
      "        30           0.4151            4.60m\n"
     ]
    },
    {
     "name": "stderr",
     "output_type": "stream",
     "text": [
      "Training Model:  90%|██████████████████████████████████████▋    | 36/40 [11:02:20<1:13:47, 1106.86s/it, Accuracy=0.791]"
     ]
    },
    {
     "name": "stdout",
     "output_type": "stream",
     "text": [
      "        40           0.3080            0.00s\n",
      "      Iter       Train Loss   Remaining Time \n",
      "         1           1.3067           17.57m\n",
      "         2           1.2398           17.18m\n",
      "         3           1.1815           16.74m\n",
      "         4           1.1278           16.43m\n",
      "         5           1.0694           16.03m\n",
      "         6           1.0186           15.62m\n",
      "         7           0.9707           15.19m\n",
      "         8           0.9312           14.75m\n",
      "         9           0.8911           14.23m\n",
      "        10           0.8565           13.75m\n",
      "        20           0.5857            9.20m\n",
      "        30           0.4213            4.59m\n"
     ]
    },
    {
     "name": "stderr",
     "output_type": "stream",
     "text": [
      "Training Model:  92%|█████████████████████████████████████████▋   | 37/40 [11:20:45<55:19, 1106.51s/it, Accuracy=0.834]"
     ]
    },
    {
     "name": "stdout",
     "output_type": "stream",
     "text": [
      "        40           0.3093            0.00s\n",
      "      Iter       Train Loss   Remaining Time \n",
      "         1           1.3115           17.87m\n",
      "         2           1.2387           17.42m\n",
      "         3           1.1845           16.79m\n",
      "         4           1.1227           16.44m\n",
      "         5           1.0689           15.91m\n",
      "         6           1.0221           15.42m\n",
      "         7           0.9796           14.99m\n",
      "         8           0.9354           14.55m\n",
      "         9           0.8931           14.11m\n",
      "        10           0.8578           13.63m\n",
      "        20           0.5866            9.10m\n",
      "        30           0.4230            4.54m\n"
     ]
    },
    {
     "name": "stderr",
     "output_type": "stream",
     "text": [
      "Training Model:  95%|██████████████████████████████████████████▊  | 38/40 [11:38:59<36:45, 1102.60s/it, Accuracy=0.777]"
     ]
    },
    {
     "name": "stdout",
     "output_type": "stream",
     "text": [
      "        40           0.3158            0.00s\n",
      "      Iter       Train Loss   Remaining Time \n",
      "         1           1.3027           17.67m\n",
      "         2           1.2261           17.67m\n",
      "         3           1.1604           17.28m\n",
      "         4           1.1036           16.95m\n",
      "         5           1.0466           16.37m\n",
      "         6           0.9979           15.81m\n",
      "         7           0.9584           15.48m\n",
      "         8           0.9125           14.99m\n",
      "         9           0.8707           14.49m\n",
      "        10           0.8342           14.07m\n",
      "        20           0.5692            9.32m\n",
      "        30           0.4071            4.63m\n"
     ]
    },
    {
     "name": "stderr",
     "output_type": "stream",
     "text": [
      "Training Model:  98%|███████████████████████████████████████████▉ | 39/40 [11:57:28<18:24, 1104.45s/it, Accuracy=0.834]"
     ]
    },
    {
     "name": "stdout",
     "output_type": "stream",
     "text": [
      "        40           0.2957            0.00s\n",
      "      Iter       Train Loss   Remaining Time \n",
      "         1           1.2985           17.86m\n",
      "         2           1.2209           17.43m\n",
      "         3           1.1520           16.91m\n",
      "         4           1.0963           16.48m\n",
      "         5           1.0411           15.94m\n",
      "         6           0.9951           15.50m\n",
      "         7           0.9482           15.08m\n",
      "         8           0.9055           14.61m\n",
      "         9           0.8667           14.14m\n",
      "        10           0.8282           13.66m\n",
      "        20           0.5689            9.14m\n",
      "        30           0.4033            4.61m\n"
     ]
    },
    {
     "name": "stderr",
     "output_type": "stream",
     "text": [
      "Training Model: 100%|█████████████████████████████████████████████| 40/40 [12:15:51<00:00, 1103.79s/it, Accuracy=0.829]"
     ]
    },
    {
     "name": "stdout",
     "output_type": "stream",
     "text": [
      "        40           0.2981            0.00s\n"
     ]
    },
    {
     "name": "stderr",
     "output_type": "stream",
     "text": [
      "\n"
     ]
    }
   ],
   "source": [
    "# Train the model \n",
    "best_accuracy = -1\n",
    "with tqdm(total=gradient_boosting.n_estimators, desc=\"Training Model\") as pbar:\n",
    "    for i in range(gradient_boosting.n_estimators):\n",
    "        gradient_boosting.fit(X_train, y_train)\n",
    "\n",
    "        # Make predictions on the test set\n",
    "        y_pred = gradient_boosting.predict(X_test)\n",
    "        # Calculate accuracy\n",
    "        accuracy = accuracy_score(y_test, y_pred)\n",
    "\n",
    "        # Update progress bar\n",
    "        pbar.set_postfix({'Accuracy': accuracy})\n",
    "        pbar.update(1)\n",
    "\n",
    "        # Save the model if it has the best accuracy so far\n",
    "        if accuracy > best_accuracy:\n",
    "            best_accuracy = accuracy\n",
    "            joblib.dump(gradient_boosting, 'stroke_detection_model.pkl')"
   ]
  },
  {
   "cell_type": "markdown",
   "id": "a3a5955a",
   "metadata": {},
   "source": [
    "# Train the Model"
   ]
  },
  {
   "cell_type": "code",
   "execution_count": 10,
   "id": "a96c4a2e",
   "metadata": {},
   "outputs": [
    {
     "name": "stdout",
     "output_type": "stream",
     "text": [
      "Model Accuracy: 0.8293838862559242\n"
     ]
    }
   ],
   "source": [
    "# Make predictions on the test set\n",
    "y_pred = gradient_boosting.predict(X_test)\n",
    "\n",
    "# Evaluate the model accuracy\n",
    "accuracy = accuracy_score(y_test, y_pred)\n",
    "print(f\"Model Accuracy: {accuracy}\")"
   ]
  },
  {
   "cell_type": "markdown",
   "id": "90a64673",
   "metadata": {},
   "source": [
    "# Classification Report"
   ]
  },
  {
   "cell_type": "code",
   "execution_count": 11,
   "id": "2bc3f64d",
   "metadata": {},
   "outputs": [
    {
     "name": "stdout",
     "output_type": "stream",
     "text": [
      "Classification Report:\n",
      "               precision    recall  f1-score   support\n",
      "\n",
      "  Non-Stroke       0.79      0.88      0.83       102\n",
      "      Stroke       0.88      0.78      0.83       109\n",
      "\n",
      "    accuracy                           0.83       211\n",
      "   macro avg       0.83      0.83      0.83       211\n",
      "weighted avg       0.83      0.83      0.83       211\n",
      "\n"
     ]
    }
   ],
   "source": [
    "# Generate classification report\n",
    "class_names = [\"Non-Stroke\", \"Stroke\"]\n",
    "report = classification_report(y_test, y_pred, target_names=class_names)\n",
    "print(\"Classification Report:\\n\", report)"
   ]
  },
  {
   "cell_type": "code",
   "execution_count": 12,
   "id": "dda3d2e1",
   "metadata": {},
   "outputs": [
    {
     "name": "stdout",
     "output_type": "stream",
     "text": [
      "AUC: 0.896294297535528\n"
     ]
    }
   ],
   "source": [
    "# Make predictions on the test set (predicted probabilities)\n",
    "y_pred_proba = gradient_boosting.predict_proba(X_test)\n",
    "\n",
    "# Calculate the AUC\n",
    "auc = roc_auc_score(y_test, y_pred_proba[:, 1])  # Use the probabilities for the positive class (stroke)\n",
    "print(f\"AUC: {auc}\")"
   ]
  },
  {
   "cell_type": "markdown",
   "id": "2a18156a",
   "metadata": {},
   "source": [
    "# Confusion Matrix"
   ]
  },
  {
   "cell_type": "code",
   "execution_count": 13,
   "id": "17b21899",
   "metadata": {},
   "outputs": [
    {
     "name": "stdout",
     "output_type": "stream",
     "text": [
      "Confusion Matrix:\n",
      " [[90 12]\n",
      " [24 85]]\n"
     ]
    },
    {
     "data": {
      "image/png": "[encoded data removed]",
      "text/plain": [
       "<Figure size 800x600 with 2 Axes>"
      ]
     },
     "metadata": {},
     "output_type": "display_data"
    }
   ],
   "source": [
    "# Generate confusion matrix\n",
    "conf_matrix = confusion_matrix(y_test, y_pred)\n",
    "print(\"Confusion Matrix:\\n\", conf_matrix)\n",
    "\n",
    "plt.figure(figsize=(8, 6))\n",
    "plt.imshow(conf_matrix, interpolation='nearest', cmap=plt.cm.Blues)\n",
    "plt.title('Confusion Matrix')\n",
    "plt.colorbar()\n",
    "tick_marks = np.arange(len(class_names))\n",
    "plt.xticks(tick_marks, class_names, rotation=45)\n",
    "plt.yticks(tick_marks, class_names)\n",
    "plt.xlabel('Predicted Label')\n",
    "plt.ylabel('True Label')\n",
    "\n",
    "# Display values in each cell\n",
    "for i in range(len(class_names)):\n",
    "    for j in range(len(class_names)):\n",
    "        plt.text(j, i, format(conf_matrix[i, j], 'd'), horizontalalignment=\"center\", color=\"white\" if conf_matrix[i, j] > conf_matrix.max() / 2 else \"black\")\n",
    "\n",
    "plt.show()"
   ]
  },
  {
   "cell_type": "markdown",
   "id": "aca04e08",
   "metadata": {},
   "source": [
    "# Save the Model"
   ]
  },
  {
   "cell_type": "code",
   "execution_count": 14,
   "id": "8ea3bcc0",
   "metadata": {},
   "outputs": [
    {
     "data": {
      "text/plain": [
       "['stroke_detection_model.pkl']"
      ]
     },
     "execution_count": 14,
     "metadata": {},
     "output_type": "execute_result"
    }
   ],
   "source": [
    "# Save the model\n",
    "joblib.dump(gradient_boosting, 'stroke_detection_model.pkl')"
   ]
  },
  {
   "cell_type": "code",
   "execution_count": null,
   "id": "845b1792",
   "metadata": {},
   "outputs": [],
   "source": []
  }
 ],
 "metadata": {
  "kernelspec": {
   "display_name": "Python 3 (ipykernel)",
   "language": "python",
   "name": "python3"
  },
  "language_info": {
   "codemirror_mode": {
    "name": "ipython",
    "version": 3
   },
   "file_extension": ".py",
   "mimetype": "text/x-python",
   "name": "python",
   "nbconvert_exporter": "python",
   "pygments_lexer": "ipython3",
   "version": "3.10.11"
  }
 },
 "nbformat": 4,
 "nbformat_minor": 5
}
